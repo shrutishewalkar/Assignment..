{
 "cells": [
  {
   "cell_type": "markdown",
   "id": "097b02cf-42f9-448b-8db5-2200f1929184",
   "metadata": {},
   "source": [
    "Q1 You are writing code for a company. The requirement of the company is that you create a python function that will check whether the password entered by the user is correct or not. The function should take the password as input and return the string “Valid Password” if the entered password follows the below-given password guidelines else it should return “Invalid Password”."
   ]
  },
  {
   "cell_type": "markdown",
   "id": "9ae08cbe-ce00-4383-8d2c-4a98c8b6ffbe",
   "metadata": {},
   "source": [
    "Note:"
   ]
  },
  {
   "cell_type": "markdown",
   "id": "53262ad3-4f50-467c-bd86-ede7da3e909a",
   "metadata": {},
   "source": [
    "1. The Password should contain at least two uppercase letters and at least two lowercase letters.\n",
    "2. The Password should contain at least a number and three special characters.\n",
    "3. The length of the password should be 10 characters long."
   ]
  },
  {
   "cell_type": "code",
   "execution_count": null,
   "id": "48f1a612-cabb-4f4a-b887-6271c4717e28",
   "metadata": {},
   "outputs": [],
   "source": [
    "import re\n",
    "\n",
    "def password_validator(password):\n",
    "    \"\"\"\n",
    "    This function checks the validity of a password\n",
    "    \"\"\"\n",
    "    special_chars ='[@_!#$%^&*()<>?/\\|}{~:]'\n",
    "    count_upper_chars=0\n",
    "    count_lower_chars=0\n",
    "    count_numerics=0\n",
    "    count_special_chars=0\n",
    "\n",
    "    for each_letter in password:\n",
    "        if each_letter.isupper()==True:\n",
    "            count_upper_chars+=1\n",
    "        if each_letter.islower()==True:\n",
    "            count_lower_chars+=1\n",
    "        if each_letter.isnumeric()==True:\n",
    "            count_numerics+=1\n",
    "        if each_letter in special_chars:\n",
    "            count_special_chars+=1\n",
    "\n",
    "    if count_upper_chars>=2 and count_lower_chars>=2 and count_numerics>=1 and count_special_chars>=3 and len(password)>=10:\n",
    "        print('Valid Password')\n",
    "    else:\n",
    "        print('Invalid Password\\n')\n",
    "        print(f\"Number of upper-case letters in password: {count_upper_chars}\")\n",
    "        print(f\"Number of lower-case letters in password: {count_lower_chars}\")\n",
    "        print(f\"Number of numeric letters in password: {count_numerics}\")\n",
    "        print(f\"Number of special characters in password: {count_special_chars}\")\n",
    "        print(f\"Length of password: {len(password)}\")\n",
    "password = input(\"Enter Password: \")\n",
    "password_validator(password)"
   ]
  },
  {
   "cell_type": "markdown",
   "id": "54ee8c96-7ddc-45cd-92ab-0f090576a891",
   "metadata": {},
   "source": [
    "Q2. Solve the below-given questions using at least one of the following:\n",
    "\n",
    "(Lambda Function, Filter Function, Map Function, List Comprehension)\n",
    "\n",
    "1. Check if the string starts with a particular letter.\n",
    "2. Check if the string is numeric.\n",
    "3. Sort a list of tuples having fruit names and their quantity. [(\"mango\",99),(\"orange\",80), (\"grapes\",1000)]\n",
    "4. Find the squares of numbers from 1 to 10\n",
    "5. Find the cube root of numbers from 1 to 10\n",
    "6. Check if a given number is even.\n",
    "7. Filter odd numbers from the given list. [1,2,3,4,5,6,7,8,9,10]\n",
    "8. Sort a list of integers into positive and negative integer lists.\n"
   ]
  },
  {
   "cell_type": "markdown",
   "id": "64fab027-58a8-4c64-ba43-422759a76085",
   "metadata": {},
   "source": [
    "[1, 2, 3, 4, 5, 6, -1, -2, -3, -4, -5, 0]"
   ]
  },
  {
   "cell_type": "code",
   "execution_count": null,
   "id": "aea846e0-6ee1-4d79-ab0a-2f1a075d7e0f",
   "metadata": {},
   "outputs": [],
   "source": [
    "#1. Check if the string starts with a particular letter.\n",
    "\n",
    "char = '#'\n",
    "string = input(\"Enter a string to match:\")\n",
    "starts_with = True if string.startswith(char)==True else False\n",
    "print(\"String starts with particular letter:\",starts_with)"
   ]
  },
  {
   "cell_type": "code",
   "execution_count": 1,
   "id": "2a46ddbb-1c8f-4d8f-b9a1-6c4d5f825729",
   "metadata": {},
   "outputs": [
    {
     "data": {
      "text/plain": [
       "[('orange', 80), ('mango', 99), ('grapes', 1000)]"
      ]
     },
     "execution_count": 1,
     "metadata": {},
     "output_type": "execute_result"
    }
   ],
   "source": [
    "#3. Sort a list of tuples having fruit names and their quantity.\n",
    "\n",
    "list_of_tuples = [('mango',99),('orange',80),('grapes',1000)]\n",
    "sorted(list_of_tuples, key=lambda x: x[1])"
   ]
  },
  {
   "cell_type": "code",
   "execution_count": 2,
   "id": "3bca432c-8475-4bd3-986f-3c9caa88d105",
   "metadata": {},
   "outputs": [
    {
     "data": {
      "text/plain": [
       "[0, 1, 4, 9, 16, 25, 36, 49, 64, 81, 100]"
      ]
     },
     "execution_count": 2,
     "metadata": {},
     "output_type": "execute_result"
    }
   ],
   "source": [
    "#4. Find the squares of numbers from 1 to 10.\n",
    "\n",
    "list_of_nums = list(range(11))\n",
    "list(map(lambda input_list: input_list**2, list_of_nums))"
   ]
  },
  {
   "cell_type": "code",
   "execution_count": 3,
   "id": "33d705c5-4cbb-416e-90e6-86e996aeb9b0",
   "metadata": {},
   "outputs": [
    {
     "data": {
      "text/plain": [
       "[0.0,\n",
       " 1.0,\n",
       " 1.2599210498948734,\n",
       " 1.4422495703074083,\n",
       " 1.5874010519681996,\n",
       " 1.7099759466766968,\n",
       " 1.8171205928321394,\n",
       " 1.9129311827723894,\n",
       " 2.0,\n",
       " 2.080083823051904,\n",
       " 2.1544346900318834]"
      ]
     },
     "execution_count": 3,
     "metadata": {},
     "output_type": "execute_result"
    }
   ],
   "source": [
    "#5. Find the cube root of numbers from 1 to 10.\n",
    "\n",
    "import numpy as np\n",
    "list_of_nums = list(range(11))\n",
    "list(map(lambda input_list: np.cbrt(input_list), list_of_nums))"
   ]
  },
  {
   "cell_type": "code",
   "execution_count": null,
   "id": "6bf3e545-e30c-4a96-8eb2-939ba3f0c8ba",
   "metadata": {},
   "outputs": [],
   "source": [
    "#6. Check if a given number is even.\n",
    "\n",
    "n = int(input(\"Enter a number:\"))\n",
    "even = lambda x: True if x%2==0 else False\n",
    "print(even(n))"
   ]
  },
  {
   "cell_type": "code",
   "execution_count": 1,
   "id": "4440465b-05dd-4aed-a7d4-a8f964710765",
   "metadata": {},
   "outputs": [
    {
     "data": {
      "text/plain": [
       "[1, 3, 5, 7, 9]"
      ]
     },
     "execution_count": 1,
     "metadata": {},
     "output_type": "execute_result"
    }
   ],
   "source": [
    "#7. Filter odd numbers from the given list.\n",
    "\n",
    "list_of_nums=list(range(11))\n",
    "list(filter(lambda input_list:input_list%2!=0, list_of_nums))"
   ]
  },
  {
   "cell_type": "code",
   "execution_count": 2,
   "id": "471c4097-3018-46ec-9180-14ff14282854",
   "metadata": {},
   "outputs": [
    {
     "name": "stdout",
     "output_type": "stream",
     "text": [
      "[1, 2, 3, 4, 5, 6, 0] [-1, -2, -3, -4, -5]\n"
     ]
    }
   ],
   "source": [
    "#8. Sort a list of integers into positive and negative integers lists.\n",
    "\n",
    "given_list = [1,2,3,4,5,6,-1,-2,-3,-4,-5,0]\n",
    "pos_list=[each_element for each_element in given_list if each_element>=0]\n",
    "neg_list=[each_element for each_element in given_list if each_element<0]\n",
    "print(pos_list,neg_list)"
   ]
  },
  {
   "cell_type": "code",
   "execution_count": null,
   "id": "f2c5e1ae-f679-4264-9512-c7d5089a5a65",
   "metadata": {},
   "outputs": [],
   "source": []
  }
 ],
 "metadata": {
  "kernelspec": {
   "display_name": "Python 3 (ipykernel)",
   "language": "python",
   "name": "python3"
  },
  "language_info": {
   "codemirror_mode": {
    "name": "ipython",
    "version": 3
   },
   "file_extension": ".py",
   "mimetype": "text/x-python",
   "name": "python",
   "nbconvert_exporter": "python",
   "pygments_lexer": "ipython3",
   "version": "3.10.8"
  }
 },
 "nbformat": 4,
 "nbformat_minor": 5
}
